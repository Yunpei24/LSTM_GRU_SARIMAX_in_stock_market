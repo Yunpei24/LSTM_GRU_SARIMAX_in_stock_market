{
 "cells": [
  {
   "cell_type": "markdown",
   "metadata": {},
   "source": [
    "# Stock price forecasting with a Transformer model"
   ]
  },
  {
   "cell_type": "code",
   "execution_count": 1,
   "metadata": {},
   "outputs": [],
   "source": [
    "import yfinance as yf\n",
    "import pandas as pd\n",
    "import numpy as np\n",
    "from sklearn.preprocessing import MinMaxScaler\n",
    "import torch\n",
    "import torch.nn as nn\n",
    "import torch.optim as optim\n",
    "import matplotlib.pyplot as plt\n",
    "from sklearn.metrics import mean_absolute_error, mean_squared_error\n",
    "from datetime import datetime, timedelta"
   ]
  },
  {
   "cell_type": "markdown",
   "metadata": {},
   "source": [
    "## Download data (Apple 2005-2024)"
   ]
  },
  {
   "cell_type": "markdown",
   "metadata": {},
   "source": [
    "### Data acquisition and preparation"
   ]
  },
  {
   "cell_type": "code",
   "execution_count": 2,
   "metadata": {},
   "outputs": [
    {
     "name": "stdout",
     "output_type": "stream",
     "text": [
      "YF.download() has changed argument auto_adjust default to True\n"
     ]
    },
    {
     "name": "stderr",
     "output_type": "stream",
     "text": [
      "[*********************100%***********************]  1 of 1 completed\n"
     ]
    }
   ],
   "source": [
    "data = yf.download(\"AAPL\", start=\"2010-01-01\", end=\"2023-01-01\")\n",
    "data = data[['Close']].rename(columns={'Close': 'Price'})\n"
   ]
  },
  {
   "cell_type": "code",
   "execution_count": 3,
   "metadata": {},
   "outputs": [],
   "source": [
    "# Calcul des rendements logarithmiques (plus stationnaires)\n",
    "data['Return'] = np.log(data['Price']) - np.log(data['Price'].shift(1))\n",
    "data = data.dropna()"
   ]
  },
  {
   "cell_type": "code",
   "execution_count": 4,
   "metadata": {},
   "outputs": [
    {
     "data": {
      "text/html": [
       "<div>\n",
       "<style scoped>\n",
       "    .dataframe tbody tr th:only-of-type {\n",
       "        vertical-align: middle;\n",
       "    }\n",
       "\n",
       "    .dataframe tbody tr th {\n",
       "        vertical-align: top;\n",
       "    }\n",
       "\n",
       "    .dataframe thead tr th {\n",
       "        text-align: left;\n",
       "    }\n",
       "\n",
       "    .dataframe thead tr:last-of-type th {\n",
       "        text-align: right;\n",
       "    }\n",
       "</style>\n",
       "<table border=\"1\" class=\"dataframe\">\n",
       "  <thead>\n",
       "    <tr>\n",
       "      <th>Price</th>\n",
       "      <th>Price</th>\n",
       "      <th>Return</th>\n",
       "    </tr>\n",
       "    <tr>\n",
       "      <th>Ticker</th>\n",
       "      <th>AAPL</th>\n",
       "      <th></th>\n",
       "    </tr>\n",
       "    <tr>\n",
       "      <th>Date</th>\n",
       "      <th></th>\n",
       "      <th></th>\n",
       "    </tr>\n",
       "  </thead>\n",
       "  <tbody>\n",
       "    <tr>\n",
       "      <th>2010-01-05</th>\n",
       "      <td>6.443017</td>\n",
       "      <td>0.001727</td>\n",
       "    </tr>\n",
       "    <tr>\n",
       "      <th>2010-01-06</th>\n",
       "      <td>6.340532</td>\n",
       "      <td>-0.016034</td>\n",
       "    </tr>\n",
       "    <tr>\n",
       "      <th>2010-01-07</th>\n",
       "      <td>6.328810</td>\n",
       "      <td>-0.001850</td>\n",
       "    </tr>\n",
       "    <tr>\n",
       "      <th>2010-01-08</th>\n",
       "      <td>6.370885</td>\n",
       "      <td>0.006626</td>\n",
       "    </tr>\n",
       "    <tr>\n",
       "      <th>2010-01-11</th>\n",
       "      <td>6.314686</td>\n",
       "      <td>-0.008860</td>\n",
       "    </tr>\n",
       "    <tr>\n",
       "      <th>...</th>\n",
       "      <td>...</td>\n",
       "      <td>...</td>\n",
       "    </tr>\n",
       "    <tr>\n",
       "      <th>2022-12-23</th>\n",
       "      <td>130.173782</td>\n",
       "      <td>-0.002802</td>\n",
       "    </tr>\n",
       "    <tr>\n",
       "      <th>2022-12-27</th>\n",
       "      <td>128.367203</td>\n",
       "      <td>-0.013975</td>\n",
       "    </tr>\n",
       "    <tr>\n",
       "      <th>2022-12-28</th>\n",
       "      <td>124.428215</td>\n",
       "      <td>-0.031166</td>\n",
       "    </tr>\n",
       "    <tr>\n",
       "      <th>2022-12-29</th>\n",
       "      <td>127.952553</td>\n",
       "      <td>0.027931</td>\n",
       "    </tr>\n",
       "    <tr>\n",
       "      <th>2022-12-30</th>\n",
       "      <td>128.268463</td>\n",
       "      <td>0.002466</td>\n",
       "    </tr>\n",
       "  </tbody>\n",
       "</table>\n",
       "<p>3271 rows × 2 columns</p>\n",
       "</div>"
      ],
      "text/plain": [
       "Price            Price    Return\n",
       "Ticker            AAPL          \n",
       "Date                            \n",
       "2010-01-05    6.443017  0.001727\n",
       "2010-01-06    6.340532 -0.016034\n",
       "2010-01-07    6.328810 -0.001850\n",
       "2010-01-08    6.370885  0.006626\n",
       "2010-01-11    6.314686 -0.008860\n",
       "...                ...       ...\n",
       "2022-12-23  130.173782 -0.002802\n",
       "2022-12-27  128.367203 -0.013975\n",
       "2022-12-28  124.428215 -0.031166\n",
       "2022-12-29  127.952553  0.027931\n",
       "2022-12-30  128.268463  0.002466\n",
       "\n",
       "[3271 rows x 2 columns]"
      ]
     },
     "execution_count": 4,
     "metadata": {},
     "output_type": "execute_result"
    }
   ],
   "source": [
    "data"
   ]
  },
  {
   "cell_type": "code",
   "execution_count": 5,
   "metadata": {},
   "outputs": [],
   "source": [
    "train_size = int(len(data) * 0.7)\n",
    "val_size = int(len(data) * 0.2)\n",
    "test_size = len(data) - train_size - val_size\n",
    "\n",
    "# Split training, validation and testing data (70% train, 20% validation, 10% test)\n",
    "\n",
    "train_data = data.iloc[:train_size]\n",
    "val_data = data.iloc[train_size:train_size+val_size]\n",
    "test_data = data.iloc[train_size+val_size:]"
   ]
  },
  {
   "cell_type": "code",
   "execution_count": 6,
   "metadata": {},
   "outputs": [
    {
     "name": "stderr",
     "output_type": "stream",
     "text": [
      "/var/folders/0j/ljklzk2x25zff3_dbl9d8l0m0000gn/T/ipykernel_75374/3999966029.py:3: SettingWithCopyWarning: \n",
      "A value is trying to be set on a copy of a slice from a DataFrame.\n",
      "Try using .loc[row_indexer,col_indexer] = value instead\n",
      "\n",
      "See the caveats in the documentation: https://pandas.pydata.org/pandas-docs/stable/user_guide/indexing.html#returning-a-view-versus-a-copy\n",
      "  train_data['Return_scaled'] = scaler.fit_transform(train_data[['Return']])\n",
      "/var/folders/0j/ljklzk2x25zff3_dbl9d8l0m0000gn/T/ipykernel_75374/3999966029.py:4: SettingWithCopyWarning: \n",
      "A value is trying to be set on a copy of a slice from a DataFrame.\n",
      "Try using .loc[row_indexer,col_indexer] = value instead\n",
      "\n",
      "See the caveats in the documentation: https://pandas.pydata.org/pandas-docs/stable/user_guide/indexing.html#returning-a-view-versus-a-copy\n",
      "  val_data['Return_scaled'] = scaler.transform(val_data[['Return']])\n",
      "/var/folders/0j/ljklzk2x25zff3_dbl9d8l0m0000gn/T/ipykernel_75374/3999966029.py:5: SettingWithCopyWarning: \n",
      "A value is trying to be set on a copy of a slice from a DataFrame.\n",
      "Try using .loc[row_indexer,col_indexer] = value instead\n",
      "\n",
      "See the caveats in the documentation: https://pandas.pydata.org/pandas-docs/stable/user_guide/indexing.html#returning-a-view-versus-a-copy\n",
      "  test_data['Return_scaled'] = scaler.transform(test_data[['Return']])\n"
     ]
    }
   ],
   "source": [
    "# Normalize the data\n",
    "scaler = MinMaxScaler(feature_range=(-1, 1))\n",
    "train_data['Return_scaled'] = scaler.fit_transform(train_data[['Return']])\n",
    "val_data['Return_scaled'] = scaler.transform(val_data[['Return']])\n",
    "test_data['Return_scaled'] = scaler.transform(test_data[['Return']])"
   ]
  },
  {
   "cell_type": "code",
   "execution_count": 7,
   "metadata": {},
   "outputs": [],
   "source": [
    "# Temporal sequence data preparation\n",
    "def create_sequences(data, seq_length=90, target_col='Return_scaled'):\n",
    "    sequences = []\n",
    "    labels = []\n",
    "    for i in range(len(data) - seq_length - 1):\n",
    "        seq = data[target_col].iloc[i:i+seq_length].values\n",
    "        label = data[target_col].iloc[i+seq_length+1]  # Next value after the sequence (t+1)\n",
    "        sequences.append(seq)\n",
    "        labels.append(label)\n",
    "    return np.array(sequences), np.array(labels)"
   ]
  },
  {
   "cell_type": "code",
   "execution_count": 8,
   "metadata": {},
   "outputs": [],
   "source": [
    "SEQ_LENGTH = 300\n",
    "\n",
    "# Split into sequences and labels\n",
    "X_train, y_train = create_sequences(train_data, SEQ_LENGTH)\n",
    "X_val, y_val = create_sequences(val_data, SEQ_LENGTH)\n",
    "X_test, y_test = create_sequences(test_data, SEQ_LENGTH)\n",
    "\n",
    "# Convert to PyTorch tensors\n",
    "X_train = torch.FloatTensor(X_train).unsqueeze(-1)  # Add channel dimension\n",
    "y_train = torch.FloatTensor(y_train)\n",
    "X_val = torch.FloatTensor(X_val).unsqueeze(-1)\n",
    "y_val = torch.FloatTensor(y_val)\n",
    "X_test = torch.FloatTensor(X_test).unsqueeze(-1)  # Add channel dimension\n",
    "y_test = torch.FloatTensor(y_test)\n",
    "\n",
    "# Save the data\n",
    "torch.save((X_train, y_train), './Data/train_data.pt')\n",
    "torch.save((X_val, y_val), './Data/val_data.pt')\n",
    "torch.save((X_test, y_test), './Data/test_data.pt')\n",
    "torch.save(scaler, './Data/scaler.pt')"
   ]
  },
  {
   "cell_type": "markdown",
   "metadata": {},
   "source": [
    "## Transformer Architecture"
   ]
  },
  {
   "cell_type": "code",
   "execution_count": 9,
   "metadata": {},
   "outputs": [],
   "source": [
    "class PositionalEncoding(nn.Module):\n",
    "    def __init__(self, d_model, dropout=0.1, max_len=5000):\n",
    "        super(PositionalEncoding, self).__init__()\n",
    "        self.dropout = nn.Dropout(p=dropout) # Dropout layer for regularization\n",
    "\n",
    "        position = torch.arange(max_len).unsqueeze(1) # Create a position tensor\n",
    "        div_term = torch.exp(torch.arange(0, d_model, 2) * (-torch.log(torch.tensor(10000.0)) / d_model)) # Calculate the division term for positional encoding\n",
    "        pe = torch.zeros(max_len, 1, d_model) # Initialize positional encoding tensor\n",
    "        pe[:, 0, 0::2] = torch.sin(position * div_term) # Apply sine function to even indices\n",
    "        pe[:, 0, 1::2] = torch.cos(position * div_term) # Apply cosine function to odd indices\n",
    "        self.register_buffer('pe', pe)\n",
    "\n",
    "    def forward(self, x):\n",
    "        # x: (batch_size, seq_len, d_model)\n",
    "        x = x.permute(1, 0, 2)  # (seq_len, batch_size, d_model)\n",
    "        x = x + self.pe[:x.size(0)] # Use sequence length: x.size(0) is for the sequence length and x.size(1) is for the batch size\n",
    "        return self.dropout(x).permute(1, 0, 2)\n",
    "\n",
    "class TimeSeriesTransformer(nn.Module):\n",
    "    def __init__(self, input_size, num_layers, hidden_dim, nhead, dropout=0.1):\n",
    "        super().__init__()\n",
    "        self.encoder = nn.Linear(input_size, hidden_dim) # Input projection which linearizes the input\n",
    "        self.pos_enoder = PositionalEncoding(hidden_dim, dropout) # Positional encoding to add temporal information\n",
    "        \n",
    "        encoder_layer = nn.TransformerEncoderLayer(\n",
    "            d_model=hidden_dim,\n",
    "            nhead=nhead,\n",
    "            dropout=dropout,\n",
    "            batch_first=True,\n",
    "            dim_feedforward=hidden_dim*4  # Add a feedforward layer with 4 times the hidden dimension\n",
    "        ) # Transformer encoder layer\n",
    "\n",
    "        self.transformer = nn.TransformerEncoder(\n",
    "            encoder_layer,\n",
    "            num_layers=num_layers\n",
    "        ) # Final transformer encoder which uses the encoder layer to process the input data and number of layers\n",
    "        \n",
    "        self.decoder = nn.Linear(hidden_dim, 1) # Final linear layer to output the prediction\n",
    "    \n",
    "    def forward(self, src):\n",
    "        src = self.encoder(src) # Project input to hidden dimension\n",
    "        src = self.pos_enoder(src) # Add positional encoding to the input\n",
    "        output = self.transformer(src) # Pass through the transformer encoder\n",
    "        output = self.decoder(output[:, -1, :])  # Take the last output for prediction\n",
    "        return output.squeeze()"
   ]
  },
  {
   "cell_type": "markdown",
   "metadata": {},
   "source": [
    "## Model training"
   ]
  },
  {
   "cell_type": "code",
   "execution_count": 10,
   "metadata": {},
   "outputs": [
    {
     "data": {
      "text/plain": [
       "(torch.Size([1988, 300, 1]),\n",
       " torch.Size([1988]),\n",
       " torch.Size([27, 300, 1]),\n",
       " torch.Size([27]),\n",
       " torch.Size([353, 300, 1]),\n",
       " torch.Size([353]))"
      ]
     },
     "execution_count": 10,
     "metadata": {},
     "output_type": "execute_result"
    }
   ],
   "source": [
    "X_train.shape, y_train.shape, X_test.shape, y_test.shape, X_val.shape, y_val.shape"
   ]
  },
  {
   "cell_type": "code",
   "execution_count": 11,
   "metadata": {},
   "outputs": [],
   "source": [
    "# Hyperparameters\n",
    "INPUT_SIZE = 1  # Single feature (Price)\n",
    "NUM_LAYERS = 4  # Number of transformer layers\n",
    "HIDDEN_DIM = 128  # Hidden dimension size\n",
    "NHEAD = 8  # Number of attention heads. Because nhead must divide hidden_dim, we choose 8 for 128\n",
    "DROPOUT = 0.3  # Dropout rate\n",
    "LR = 0.0001  # Learning rate\n",
    "EPOCHS = 50  # Number of training epochs\n",
    "BATCH_SIZE = 64  # Batch size   "
   ]
  },
  {
   "cell_type": "code",
   "execution_count": 12,
   "metadata": {},
   "outputs": [
    {
     "name": "stdout",
     "output_type": "stream",
     "text": [
      "Epoch 10, Train Loss: 0.026915, Val Loss: 0.033992\n",
      "Epoch 20, Train Loss: 0.025454, Val Loss: 0.033988\n",
      "Early stopping at epoch 30\n"
     ]
    }
   ],
   "source": [
    "# Load the training data and test data\n",
    "# X_train, y_train = torch.load('./Data/train_data.pt')\n",
    "# X_test, y_test = torch.load('./Data/test_data.pt')\n",
    "\n",
    "# Initialize the model, loss function, and optimizer\n",
    "model = TimeSeriesTransformer(\n",
    "    INPUT_SIZE,\n",
    "    NUM_LAYERS,\n",
    "    HIDDEN_DIM,\n",
    "    NHEAD,\n",
    "    DROPOUT)\n",
    "\n",
    "criterion = nn.MSELoss()\n",
    "optimizer = optim.Adam(model.parameters(), lr=LR, weight_decay=1e-5)\n",
    "scheduler = torch.optim.lr_scheduler.ReduceLROnPlateau(optimizer, 'min', patience=5, factor=0.5) # Reduce learning rate when a metric has stopped improving\n",
    "\n",
    "\n",
    "train_dataset = torch.utils.data.TensorDataset(X_train, y_train)  # Create a dataset for training\n",
    "train_loader = torch.utils.data.DataLoader(train_dataset, batch_size=BATCH_SIZE, shuffle=True, drop_last=True)  # DataLoader for batching\n",
    "\n",
    "\n",
    "# Early stopping\n",
    "best_val_loss = float('inf')\n",
    "patience = 10\n",
    "counter = 0\n",
    "\n",
    "# Training loop\n",
    "for epoch in range(EPOCHS):\n",
    "    model.train()\n",
    "    train_loss = 0.0\n",
    "\n",
    "    for batch_x, batch_y in train_loader:\n",
    "        optimizer.zero_grad()\n",
    "        output = model(batch_x)  # Forward pass\n",
    "        loss = criterion(output, batch_y)  # Compute loss\n",
    "        loss.backward()  # Backward pass\n",
    "\n",
    "        # Gradient clipping\n",
    "        torch.nn.utils.clip_grad_norm_(model.parameters(), 1.0) # Clip gradients to prevent exploding gradients\n",
    "\n",
    "        optimizer.step()  # Update weights\n",
    "        train_loss += loss.item()\n",
    "    \n",
    "    # Validation\n",
    "    model.eval()\n",
    "    with torch.no_grad():\n",
    "        val_pred = model(X_val)\n",
    "        val_loss = criterion(val_pred, y_val).item()\n",
    "    \n",
    "    scheduler.step(val_loss)\n",
    "    \n",
    "    if val_loss < best_val_loss:\n",
    "        best_val_loss = val_loss\n",
    "        counter = 0\n",
    "        torch.save(model.state_dict(), './models/best_model.pth')\n",
    "    else:\n",
    "        counter += 1\n",
    "        if counter >= patience:\n",
    "            print(f\"Early stopping at epoch {epoch+1}\")\n",
    "            break\n",
    "    \n",
    "    if (epoch+1) % 10 == 0:\n",
    "        print(f'Epoch {epoch+1}, Train Loss: {train_loss/len(train_loader):.6f}, Val Loss: {val_loss:.6f}')\n"
   ]
  },
  {
   "cell_type": "markdown",
   "metadata": {},
   "source": [
    "## Evaluation and prediction on test data"
   ]
  },
  {
   "cell_type": "code",
   "execution_count": 24,
   "metadata": {},
   "outputs": [
    {
     "data": {
      "text/plain": [
       "<All keys matched successfully>"
      ]
     },
     "execution_count": 24,
     "metadata": {},
     "output_type": "execute_result"
    }
   ],
   "source": [
    "model.load_state_dict(torch.load('./models/best_model.pth'))"
   ]
  },
  {
   "cell_type": "code",
   "execution_count": 25,
   "metadata": {},
   "outputs": [
    {
     "name": "stdout",
     "output_type": "stream",
     "text": [
      "TimeSeriesTransformer(\n",
      "  (encoder): Linear(in_features=1, out_features=128, bias=True)\n",
      "  (pos_enoder): PositionalEncoding(\n",
      "    (dropout): Dropout(p=0.3, inplace=False)\n",
      "  )\n",
      "  (transformer): TransformerEncoder(\n",
      "    (layers): ModuleList(\n",
      "      (0-3): 4 x TransformerEncoderLayer(\n",
      "        (self_attn): MultiheadAttention(\n",
      "          (out_proj): NonDynamicallyQuantizableLinear(in_features=128, out_features=128, bias=True)\n",
      "        )\n",
      "        (linear1): Linear(in_features=128, out_features=512, bias=True)\n",
      "        (dropout): Dropout(p=0.3, inplace=False)\n",
      "        (linear2): Linear(in_features=512, out_features=128, bias=True)\n",
      "        (norm1): LayerNorm((128,), eps=1e-05, elementwise_affine=True)\n",
      "        (norm2): LayerNorm((128,), eps=1e-05, elementwise_affine=True)\n",
      "        (dropout1): Dropout(p=0.3, inplace=False)\n",
      "        (dropout2): Dropout(p=0.3, inplace=False)\n",
      "      )\n",
      "    )\n",
      "  )\n",
      "  (decoder): Linear(in_features=128, out_features=1, bias=True)\n",
      ")\n"
     ]
    }
   ],
   "source": [
    "# print the info of the model\n",
    "print(model)"
   ]
  },
  {
   "cell_type": "code",
   "execution_count": 26,
   "metadata": {},
   "outputs": [],
   "source": [
    "with torch.no_grad():\n",
    "    test_pred = model(X_test)\n",
    "    test_loss = criterion(test_pred, y_test).item()\n",
    "\n",
    "# Conversion inverse des rendements\n",
    "test_pred_returns = scaler.inverse_transform(test_pred.numpy().reshape(-1, 1))\n",
    "y_test_returns = scaler.inverse_transform(y_test.numpy().reshape(-1, 1))\n",
    "\n",
    "# Conversion en prix\n",
    "test_prices = test_data['Price'].iloc[SEQ_LENGTH+1:].values.reshape(-1, 1)\n",
    "test_pred_prices = test_prices * np.exp(test_pred_returns)"
   ]
  },
  {
   "cell_type": "code",
   "execution_count": 16,
   "metadata": {},
   "outputs": [],
   "source": [
    "def calculate_mape(y_true, y_pred):\n",
    "    return np.mean(np.abs((y_true - y_pred) / y_true)) * 100"
   ]
  },
  {
   "cell_type": "code",
   "execution_count": 17,
   "metadata": {},
   "outputs": [
    {
     "name": "stdout",
     "output_type": "stream",
     "text": [
      "\n",
      "Test Performance:\n",
      "MAE: 0.30\n",
      "RMSE: 0.30\n",
      "MAPE: 0.22%\n"
     ]
    }
   ],
   "source": [
    "mae = mean_absolute_error(test_prices, test_pred_prices)\n",
    "rmse = np.sqrt(mean_squared_error(test_prices, test_pred_prices))\n",
    "mape = calculate_mape(test_prices, test_pred_prices)\n",
    "\n",
    "print(\"\\nTest Performance:\")\n",
    "print(f\"MAE: {mae:.2f}\")\n",
    "print(f\"RMSE: {rmse:.2f}\")\n",
    "print(f\"MAPE: {mape:.2f}%\")"
   ]
  },
  {
   "cell_type": "code",
   "execution_count": 18,
   "metadata": {},
   "outputs": [
    {
     "data": {
      "image/png": "[encoded data removed]",
      "text/plain": [
       "<Figure size 1400x600 with 1 Axes>"
      ]
     },
     "metadata": {},
     "output_type": "display_data"
    }
   ],
   "source": [
    "plt.figure(figsize=(14, 6))\n",
    "plt.plot(test_data.index[SEQ_LENGTH+1:], test_prices, label='True Price', color='blue')\n",
    "plt.plot(test_data.index[SEQ_LENGTH+1:], test_pred_prices, label='Predicted Price', color='orange', alpha=0.7)\n",
    "plt.title('Apple Stock Price Prediction - Test Set')\n",
    "plt.xlabel('Date')\n",
    "plt.ylabel('Price')\n",
    "plt.legend()\n",
    "plt.grid(True)\n",
    "plt.show()\n"
   ]
  },
  {
   "cell_type": "code",
   "execution_count": 19,
   "metadata": {},
   "outputs": [],
   "source": [
    "# def generate_future_predictions(model, scaler, last_sequence, sequence_length, n_future_days, data):\n",
    "\n",
    "#     model.eval()\n",
    "#     current_sequence = last_sequence.copy()\n",
    "#     future_returns = []\n",
    "\n",
    "#     # Generate future returns iteratively\n",
    "#     for _ in range(n_future_days):\n",
    "#         # Prepare input sequence\n",
    "#         seq_normalized = scaler.transform(current_sequence[-sequence_length:].reshape(-1, 1))\n",
    "#         seq_tensor = torch.FloatTensor(seq_normalized).unsqueeze(0)  # (1, seq_len, 1)\n",
    "        \n",
    "#         with torch.no_grad():\n",
    "#             pred_return_normalized = model(seq_tensor).item()\n",
    "\n",
    "#         pred_return = scaler.inverse_transform(np.array([[pred_return_normalized]]))[0, 0]\n",
    "#         future_returns.append(pred_return)\n",
    "\n",
    "#         # Update the sequence with the new prediction\n",
    "#         new_price = current_sequence[-1] * np.exp(pred_return)  # Convert return to price\n",
    "#         if type(new_price) is not float:\n",
    "#             new_price = new_price.item()\n",
    "#         current_sequence = np.append(current_sequence, new_price)\n",
    "        \n",
    "\n",
    "#     # Converting yields into prices\n",
    "#     last_known_price = last_sequence[-1]\n",
    "#     future_prices = [last_known_price * np.exp(sum(future_returns[:i+1])) for i in range(len(future_returns))]\n",
    "#     print(\"Future prices\", future_prices)\n",
    "\n",
    "#     last_date = data.index[-1]\n",
    "#     future_dates = [last_date + timedelta(days=i) for i in range(1, n_future_days+1)]\n",
    "\n",
    "#     return future_dates, future_prices\n"
   ]
  },
  {
   "cell_type": "code",
   "execution_count": 28,
   "metadata": {},
   "outputs": [],
   "source": [
    "def generate_future_predictions(model, scaler, last_sequence, sequence_length, n_future_days, data):\n",
    "    \"\"\"\n",
    "    Generates future predictions for stock prices based on a trained model.\n",
    "\n",
    "    Args:\n",
    "        model: Trained PyTorch model.\n",
    "        scaler: Scaler used for normalizing the data.\n",
    "        last_sequence: Last known sequence of prices (numpy array).\n",
    "        sequence_length: Length of the input sequences used during training.\n",
    "        n_future_days: Number of future days to predict.\n",
    "        data: Historical data (Pandas DataFrame) for reference.\n",
    "\n",
    "    Returns:\n",
    "        future_dates: List of future dates.\n",
    "        future_prices: List of predicted future prices.\n",
    "    \"\"\"\n",
    "    model.eval()\n",
    "    current_sequence = last_sequence.copy()\n",
    "    future_prices = []\n",
    "\n",
    "    # Generate future prices iteratively\n",
    "    for _ in range(n_future_days):\n",
    "        # Prepare input sequence\n",
    "        seq_normalized = scaler.transform(current_sequence[-sequence_length:].reshape(-1, 1))\n",
    "        seq_tensor = torch.FloatTensor(seq_normalized).unsqueeze(0)  # Shape: (1, seq_len, 1)\n",
    "        \n",
    "        # Predict normalized return\n",
    "        with torch.no_grad():\n",
    "            pred_return_normalized = model(seq_tensor).item()\n",
    "\n",
    "        # Denormalize the predicted return\n",
    "        pred_return = scaler.inverse_transform(np.array([[pred_return_normalized]]))[0, 0]\n",
    "\n",
    "        # Calculate the new price based on the predicted return\n",
    "        new_price = current_sequence[-1] * np.exp(pred_return)  # Convert return to price\n",
    "        if type(new_price) is not float:\n",
    "            new_price = new_price.item()\n",
    "        future_prices.append(new_price)\n",
    "\n",
    "        # Update the sequence with the new price\n",
    "        current_sequence = np.append(current_sequence, new_price)\n",
    "\n",
    "    # Generate future dates (business days only)\n",
    "    last_date = data.index[-1]\n",
    "    future_dates = pd.date_range(start=last_date + pd.Timedelta(days=1), periods=n_future_days, freq='B')\n",
    "\n",
    "    return future_dates, future_prices"
   ]
  },
  {
   "cell_type": "code",
   "execution_count": 29,
   "metadata": {},
   "outputs": [
    {
     "name": "stderr",
     "output_type": "stream",
     "text": [
      "[*********************100%***********************]  1 of 1 completed\n"
     ]
    }
   ],
   "source": [
    "# Load data up to today\n",
    "end_date = datetime.now().strftime('%Y-%m-%d')\n",
    "data_future = yf.download(\"AAPL\", start=\"2010-01-01\", end=end_date)\n",
    "data_future = data_future[['Close']].rename(columns={'Close': 'Price'})\n",
    "\n",
    "# Calculating logarithmic yields\n",
    "data_future['Return'] = np.log(data_future['Price']) - np.log(data_future['Price'].shift(1))\n",
    "data_future = data_future.dropna()"
   ]
  },
  {
   "cell_type": "code",
   "execution_count": 22,
   "metadata": {},
   "outputs": [],
   "source": [
    "# Normalize returns\n",
    "# scaler.fit_transform(data_future['Return'].values.reshape(-1, 1))\n",
    "# scaler.fit_transform(train_data[['Return']])"
   ]
  },
  {
   "cell_type": "code",
   "execution_count": 34,
   "metadata": {},
   "outputs": [],
   "source": [
    "# Sélectionner la dernière séquence connue\n",
    "sequence_length = SEQ_LENGTH  # À remplacer par votre SEQ_LENGTH\n",
    "last_sequence = data_future['Price'].iloc[-sequence_length:].values\n",
    "\n",
    "# Load trained model (if not already loaded)\n",
    "# model = TimeSeriesTransformer(...)\n",
    "# model.load_state_dict(torch.load(‘best_model.pth’))\n",
    "\n",
    "horizons = [30]  # Jours à prédire\n",
    "predictions = {}\n",
    "\n",
    "for horizon in horizons:\n",
    "    future_dates, future_prices = generate_future_predictions(\n",
    "        model=model,\n",
    "        scaler=scaler,\n",
    "        last_sequence=last_sequence,\n",
    "        sequence_length=sequence_length,\n",
    "        n_future_days=horizon,\n",
    "        data=data_future\n",
    "    )\n",
    "    predictions[horizon] = (future_dates, future_prices)\n"
   ]
  },
  {
   "cell_type": "code",
   "execution_count": 35,
   "metadata": {},
   "outputs": [
    {
     "data": {
      "text/plain": [
       "[201.85791944133766,\n",
       " 199.81535613132652,\n",
       " 197.79216400754058,\n",
       " 195.78822664782314,\n",
       " 193.80348725940516,\n",
       " 191.8377701811714,\n",
       " 189.89097051932026,\n",
       " 187.96283221411963,\n",
       " 186.05317836003175,\n",
       " 184.1619223670037,\n",
       " 182.28901483013678,\n",
       " 180.43439276906508,\n",
       " 178.59783622692495,\n",
       " 176.77909262963144,\n",
       " 174.97798036574792,\n",
       " 173.19453339031628,\n",
       " 171.42862406409893,\n",
       " 169.68113804034434,\n",
       " 167.95214318570845,\n",
       " 166.2430973874178,\n",
       " 164.54893598881617,\n",
       " 162.8698902995856,\n",
       " 161.20588924580414,\n",
       " 159.55696022106946,\n",
       " 157.92301155849796,\n",
       " 156.30401355274873,\n",
       " 154.69994515862632,\n",
       " 153.11082552279092,\n",
       " 151.53655780112717,\n",
       " 149.97706927953806]"
      ]
     },
     "execution_count": 35,
     "metadata": {},
     "output_type": "execute_result"
    }
   ],
   "source": [
    "future_prices"
   ]
  },
  {
   "cell_type": "code",
   "execution_count": 36,
   "metadata": {},
   "outputs": [
    {
     "data": {
      "image/png": "[encoded data removed]",
      "text/plain": [
       "<Figure size 1400x800 with 1 Axes>"
      ]
     },
     "metadata": {},
     "output_type": "display_data"
    }
   ],
   "source": [
    "# Visualisation\n",
    "plt.figure(figsize=(14, 8))\n",
    "\n",
    "plt.plot(data_future.index[-180:], data_future['Price'].iloc[-180:], 'b-', label='Price history')\n",
    "\n",
    "# Tracer les prédictions pour chaque horizon\n",
    "colors = ['r', 'g', 'm', 'c', 'b']\n",
    "for i, (horizon, (dates, prices)) in enumerate(predictions.items()):\n",
    "    plt.plot(dates, prices, linestyle='--', \n",
    "             color=colors[i], label=f'Prediction for {horizon} days')\n",
    "\n",
    "plt.axvline(x=data_future.index[-1], color='k', linestyle='--', label='Today')\n",
    "plt.title('Future Price Predictions for Apple')\n",
    "plt.xlabel('Date')\n",
    "plt.ylabel('Price ($)')\n",
    "plt.legend()\n",
    "plt.grid(True)\n",
    "plt.tight_layout()\n",
    "plt.show()"
   ]
  },
  {
   "cell_type": "markdown",
   "metadata": {},
   "source": [
    "---"
   ]
  },
  {
   "cell_type": "markdown",
   "metadata": {},
   "source": [
    "___"
   ]
  }
 ],
 "metadata": {
  "kernelspec": {
   "display_name": "env",
   "language": "python",
   "name": "python3"
  },
  "language_info": {
   "codemirror_mode": {
    "name": "ipython",
    "version": 3
   },
   "file_extension": ".py",
   "mimetype": "text/x-python",
   "name": "python",
   "nbconvert_exporter": "python",
   "pygments_lexer": "ipython3",
   "version": "3.13.2"
  }
 },
 "nbformat": 4,
 "nbformat_minor": 2
}
